{
 "cells": [
  {
   "cell_type": "markdown",
   "id": "f187f1ab",
   "metadata": {},
   "source": [
    "## Bachet's Algorithm\n",
    "\n",
    "The purpose of this notebook is to implement and display some of the results of applying Bachet's Algorithm for the creation of Magic Sqaures as motivated by the Mathologer video found here: https://www.youtube.com/watch?v=FANbncTMCGc&t=570s\n"
   ]
  },
  {
   "cell_type": "code",
   "execution_count": 1,
   "id": "8c7361b4",
   "metadata": {},
   "outputs": [],
   "source": [
    "def bachet_algo(n = 3, display = False):\n",
    "    if type(n) is not int: print(\"n must be a positive, odd integer!\")\n",
    "    elif n % 2 == 0 or n < 1: print(\"n must be a positive, odd integer!\")\n",
    "    elif n == 1: magic_sq = [[1]]\n",
    "    \n",
    "    # Setup:\n",
    "    magic_sq = [[] for _ in range(n)]\n",
    "    tlc = n//2 + 1\n",
    "    vs = n + 1\n",
    "    hs = n - 1\n",
    "\n",
    "    b2t = [[(i + tlc)*n + hs*j for j in range(tlc - i)] for i in range(1, tlc)]\n",
    "    t2b = [[i + hs*j for j in range(i)] for i in range(1, tlc)]\n",
    "    r2l = [[(j + tlc)*n + vs*i - hs for i in range(tlc - j)] for j in range(1, tlc)]\n",
    "    l2r = [[n*j - vs*i for i in range(j)] for j  in range(1, tlc)]\n",
    "    \n",
    "    for i in range(n):\n",
    "        if i%2 == 0: magic_sq[i] = [tlc + (i//2)*vs + hs*(j//2) if j%2 == 0 else 0 for j in range(n)]\n",
    "        else: magic_sq[i] = [tlc + n*((i+1)//2) + ((i-1)//2) + hs*((j-1)//2) if j%2 == 1 else 0 for j in range(n)]\n",
    "\n",
    "    # Top Fill:\n",
    "    for i in range(tlc):\n",
    "        for j in range(tlc - i - 1):\n",
    "            magic_sq[i][j*2 + i + 1] = b2t[i][j]\n",
    "\n",
    "    # Bottom Fill:\n",
    "    for i in range(tlc, n):\n",
    "        for j in range(i - tlc + 1):\n",
    "            magic_sq[i][j*2 -i] = t2b[i - tlc][j]     \n",
    "\n",
    "    magic_sq = transpose(magic_sq)\n",
    "\n",
    "    # Left Fill:\n",
    "    for i in range(tlc):\n",
    "        for j in range(tlc - i - 1):\n",
    "            magic_sq[i][j*2 + i + 1] = r2l[i][j] \n",
    "\n",
    "    # Right Fill:\n",
    "    for i in range(tlc, n):\n",
    "        for j in range(i - tlc + 1):\n",
    "            magic_sq[i][j*2 -i] = l2r[i - tlc][-j - 1]\n",
    "\n",
    "    magic_sq = transpose(magic_sq)\n",
    "        \n",
    "    if display: print(*magic_sq, sep = '\\n', end = '\\n\\n')\n",
    "    \n",
    "    return magic_sq\n",
    "\n",
    "def transpose(square):\n",
    "        n = len(square) \n",
    "        tsquare = [[] for _ in range(n)]\n",
    "        for i in range(n):\n",
    "            for j in range(n):\n",
    "                tsquare[j].append(square[i][j])\n",
    "        return tsquare"
   ]
  },
  {
   "cell_type": "code",
   "execution_count": 2,
   "id": "b1f74a0c",
   "metadata": {
    "scrolled": true
   },
   "outputs": [
    {
     "name": "stdout",
     "output_type": "stream",
     "text": [
      "[1]\n",
      "\n",
      "[2, 9, 4]\n",
      "[7, 5, 3]\n",
      "[6, 1, 8]\n",
      "\n",
      "[3, 20, 7, 24, 11]\n",
      "[16, 8, 25, 12, 4]\n",
      "[9, 21, 13, 5, 17]\n",
      "[22, 14, 1, 18, 10]\n",
      "[15, 2, 19, 6, 23]\n",
      "\n",
      "[4, 35, 10, 41, 16, 47, 22]\n",
      "[29, 11, 42, 17, 48, 23, 5]\n",
      "[12, 36, 18, 49, 24, 6, 30]\n",
      "[37, 19, 43, 25, 7, 31, 13]\n",
      "[20, 44, 26, 1, 32, 14, 38]\n",
      "[45, 27, 2, 33, 8, 39, 21]\n",
      "[28, 3, 34, 9, 40, 15, 46]\n",
      "\n",
      "True\n"
     ]
    }
   ],
   "source": [
    "# Test Case 1:\n",
    "bachet_algo(1, display = True)\n",
    "bachet_algo(3, display = True)\n",
    "bachet_algo(5, display = True)\n",
    "bachet_algo(7, display = True)\n",
    "\n",
    "# Test Case 2:\n",
    "def is_magical(magic_sq):\n",
    "    S = []\n",
    "    tsquare = transpose(magic_sq)\n",
    "    for i in range(n):\n",
    "        S.append(sum(magic_sq[i]))\n",
    "        S.append(sum(tsquare[i]))\n",
    "        \n",
    "    return all([s == S[0] for s in S])\n",
    "\n",
    "\n",
    "magical = []\n",
    "for n in range(1, 101, 2):\n",
    "    magic_sq = bachet_algo(n)\n",
    "    magical.append(is_magical(magic_sq))\n",
    "    \n",
    "print(all(magical))"
   ]
  }
 ],
 "metadata": {
  "kernelspec": {
   "display_name": "Python 3 (ipykernel)",
   "language": "python",
   "name": "python3"
  },
  "language_info": {
   "codemirror_mode": {
    "name": "ipython",
    "version": 3
   },
   "file_extension": ".py",
   "mimetype": "text/x-python",
   "name": "python",
   "nbconvert_exporter": "python",
   "pygments_lexer": "ipython3",
   "version": "3.11.0"
  }
 },
 "nbformat": 4,
 "nbformat_minor": 5
}
